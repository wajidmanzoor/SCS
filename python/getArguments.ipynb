{
 "cells": [
  {
   "cell_type": "code",
   "execution_count": 4,
   "metadata": {},
   "outputs": [],
   "source": [
    "import pandas as pd\n",
    "import numpy as np\n",
    "import os"
   ]
  },
  {
   "cell_type": "code",
   "execution_count": 13,
   "metadata": {},
   "outputs": [],
   "source": [
    "def args_exp9(arg,graph):\n",
    "    final = \"server_exit\"\n",
    "    save_dir = \"../client/query/exp9/\"\n",
    "    if not os.path.isdir(save_dir):\n",
    "        os.mkdir(save_dir)\n",
    "    \n",
    "    current = arg*300\n",
    "    current = current +[final]\n",
    "    with open(os.path.join(save_dir,graph),\"w\") as file:\n",
    "        file.write(\"\\n\".join(current))"
   ]
  },
  {
   "cell_type": "code",
   "execution_count": 14,
   "metadata": {},
   "outputs": [],
   "source": [
    "args_exp9(['9 12 79920 1 1'],'com-dblp')\n",
    "args_exp9(['9 12 321 1 1'],\"amazon_q\")\n",
    "args_exp9(['9 12 1452 1 1'],'orani')\n",
    "args_exp9(['9 12 1127 1 1'],\"ego-facebook\")\n",
    "args_exp9(['9 12 6876 1 1'],\"government\")"
   ]
  },
  {
   "cell_type": "code",
   "execution_count": null,
   "metadata": {},
   "outputs": [],
   "source": []
  }
 ],
 "metadata": {
  "kernelspec": {
   "display_name": "Python 3",
   "language": "python",
   "name": "python3"
  },
  "language_info": {
   "codemirror_mode": {
    "name": "ipython",
    "version": 3
   },
   "file_extension": ".py",
   "mimetype": "text/x-python",
   "name": "python",
   "nbconvert_exporter": "python",
   "pygments_lexer": "ipython3",
   "version": "3.11.9"
  }
 },
 "nbformat": 4,
 "nbformat_minor": 2
}
