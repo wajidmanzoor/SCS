{
 "cells": [
  {
   "cell_type": "code",
   "execution_count": 4,
   "metadata": {},
   "outputs": [],
   "source": [
    "import pandas as pd\n",
    "import numpy as np\n",
    "import os"
   ]
  },
  {
   "cell_type": "code",
   "execution_count": 5,
   "metadata": {},
   "outputs": [],
   "source": [
    "def getGraphForRun(s):\n",
    "    for i in s.split(\"\\n\"):\n",
    "        print(\"'\"+i+\"'\", end = \" \")\n",
    "    return s.split(\"\\n\")"
   ]
  },
  {
   "cell_type": "code",
   "execution_count": 6,
   "metadata": {},
   "outputs": [],
   "source": [
    "graphs =  \"\"\"fat200\n",
    "GSE1730_q\n",
    "GSE10158_q\n",
    "orani\n",
    "ego-facebook\n",
    "grqc_q\n",
    "uc64\n",
    "government\n",
    "wiki-elec\n",
    "lastfm\n",
    "hepPh\n",
    "astroPh\n",
    "condmat\n",
    "Enron_q\n",
    "fb-pages\n",
    "brightkite\n",
    "livemocha\n",
    "gowalla\n",
    "citeseer\n",
    "com-dblp\n",
    "amazon_q\n",
    "youtube_q\n",
    "hyves_q\n",
    "skitter\n",
    "flixster\n",
    "patent_q\n",
    "soc-livejournal\n",
    "dblp-author\"\"\""
   ]
  },
  {
   "cell_type": "code",
   "execution_count": 7,
   "metadata": {},
   "outputs": [
    {
     "name": "stdout",
     "output_type": "stream",
     "text": [
      "'fat200' 'GSE1730_q' 'GSE10158_q' 'orani' 'ego-facebook' 'grqc_q' 'uc64' 'government' 'wiki-elec' 'lastfm' 'hepPh' 'astroPh' 'condmat' 'Enron_q' 'fb-pages' 'brightkite' 'livemocha' 'gowalla' 'citeseer' 'com-dblp' 'amazon_q' 'youtube_q' 'hyves_q' 'skitter' 'flixster' 'patent_q' 'soc-livejournal' 'dblp-author' "
     ]
    }
   ],
   "source": [
    "graph_names = getGraphForRun(graphs)"
   ]
  },
  {
   "cell_type": "code",
   "execution_count": 8,
   "metadata": {},
   "outputs": [],
   "source": [
    "def CPUArgs(path,graph_names,minmax = 0):\n",
    "    df = pd.read_csv(path)\n",
    "    qid = []\n",
    "    for graph_name in graph_names:\n",
    "        l = []\n",
    "        temp = df[df['file_name']==graph_name]\n",
    "        for core_value in [6,9,12,15,18,21,24]:\n",
    "            vert = list(map(int,temp[\"vertices_with_coreValue_close_to_\"+str(core_value)].values[0].split(\" \")))\n",
    "            degree = list(map(int,temp['Degree of vertices_with_coreValue_close_to_'+str(core_value)].values[0].split(\" \")))\n",
    "            if minmax==0:\n",
    "                l.append(vert[np.argmax(degree)])\n",
    "            else:\n",
    "                l.append(vert[np.argmin(degree)])\n",
    "        qid.append(\" \".join(list(map(str,l))))\n",
    "    return qid"
   ]
  },
  {
   "cell_type": "code",
   "execution_count": 9,
   "metadata": {},
   "outputs": [],
   "source": [
    "cpu_args = CPUArgs(\"../../graphStatisticsFinal.csv\",graph_names)"
   ]
  },
  {
   "cell_type": "code",
   "execution_count": 10,
   "metadata": {},
   "outputs": [
    {
     "data": {
      "text/plain": [
       "['1 1 1 1 1 1 1', '14 41 59 255 123 123 214', '185 57 168 167 167 61 61']"
      ]
     },
     "execution_count": 10,
     "metadata": {},
     "output_type": "execute_result"
    }
   ],
   "source": [
    "cpu_args"
   ]
  },
  {
   "cell_type": "code",
   "execution_count": 10,
   "metadata": {},
   "outputs": [],
   "source": [
    "def GpuClientArgs(path,graph_names,output_dir,minmax=0,postfix=\"1 1\"):\n",
    "    df = pd.read_csv(path)\n",
    "    for graph_name in graph_names:\n",
    "        query_data = ''\n",
    "        temp = df[df['file_name']==graph_name]\n",
    "        for N1,N2 in zip([3,6,9,12,15,18,21],[6,9,12,15,18,21,24]):\n",
    "            vert = list(map(int,temp[\"vertices_with_coreValue_close_to_\"+str(N2)].values[0].split(\" \")))\n",
    "            degree = list(map(int,temp['Degree of vertices_with_coreValue_close_to_'+str(N2)].values[0].split(\" \")))\n",
    "            qid = vert[np.argmax(degree)] if minmax == 0 else vert[np.argmin(degree)]\n",
    "            query = f\"{N1} {N2} {qid} {postfix}\\n\"\n",
    "            query_data +=query\n",
    "        query_data+=\"server_exit\"\n",
    "        with open(os.path.join(output_dir,graph_name),'w') as f:\n",
    "            f.write(query_data)\n",
    "        print(\"completed: \",graph_name)\n",
    "    print(\"Done yay! :)\")"
   ]
  },
  {
   "cell_type": "code",
   "execution_count": 14,
   "metadata": {},
   "outputs": [
    {
     "name": "stdout",
     "output_type": "stream",
     "text": [
      "completed:  fat200\n",
      "completed:  GSE1730_q\n",
      "completed:  GSE10158_q\n",
      "completed:  orani\n",
      "completed:  ego-facebook\n",
      "completed:  grqc_q\n",
      "completed:  uc64\n",
      "completed:  government\n",
      "completed:  wiki-elec\n",
      "completed:  lastfm\n",
      "completed:  hepPh\n",
      "completed:  astroPh\n",
      "completed:  condmat\n",
      "completed:  Enron_q\n",
      "completed:  fb-pages\n",
      "completed:  brightkite\n",
      "completed:  livemocha\n",
      "completed:  gowalla\n",
      "completed:  citeseer\n",
      "completed:  com-dblp\n",
      "completed:  amazon_q\n",
      "completed:  youtube_q\n",
      "completed:  hyves_q\n",
      "completed:  skitter\n",
      "completed:  flixster\n",
      "completed:  patent_q\n",
      "completed:  soc-livejournal\n",
      "completed:  dblp-author\n",
      "Done yay! :)\n"
     ]
    }
   ],
   "source": [
    "x = GpuClientArgs(\"../../graphStatisticsFinal.csv\",graph_names,\"../client/query/maxdeg\",minmax= 0 )"
   ]
  },
  {
   "cell_type": "code",
   "execution_count": 16,
   "metadata": {},
   "outputs": [
    {
     "name": "stdout",
     "output_type": "stream",
     "text": [
      "completed:  fat200\n",
      "completed:  GSE1730_q\n",
      "completed:  GSE10158_q\n",
      "completed:  orani\n",
      "completed:  ego-facebook\n",
      "completed:  grqc_q\n",
      "completed:  uc64\n",
      "completed:  government\n",
      "completed:  wiki-elec\n",
      "completed:  lastfm\n",
      "completed:  hepPh\n",
      "completed:  astroPh\n",
      "completed:  condmat\n",
      "completed:  Enron_q\n",
      "completed:  fb-pages\n",
      "completed:  brightkite\n",
      "completed:  livemocha\n",
      "completed:  gowalla\n",
      "completed:  citeseer\n",
      "completed:  com-dblp\n",
      "completed:  amazon_q\n",
      "completed:  youtube_q\n",
      "completed:  hyves_q\n",
      "completed:  skitter\n",
      "completed:  flixster\n",
      "completed:  patent_q\n",
      "completed:  soc-livejournal\n",
      "completed:  dblp-author\n",
      "Done yay! :)\n"
     ]
    }
   ],
   "source": [
    "x = GpuClientArgs(\"../../graphStatisticsFinal.csv\",graph_names,\"../client/query/mindeg\",minmax = 1)"
   ]
  },
  {
   "cell_type": "code",
   "execution_count": null,
   "metadata": {},
   "outputs": [],
   "source": []
  }
 ],
 "metadata": {
  "kernelspec": {
   "display_name": "Python 3",
   "language": "python",
   "name": "python3"
  },
  "language_info": {
   "codemirror_mode": {
    "name": "ipython",
    "version": 3
   },
   "file_extension": ".py",
   "mimetype": "text/x-python",
   "name": "python",
   "nbconvert_exporter": "python",
   "pygments_lexer": "ipython3",
   "version": "3.11.9"
  }
 },
 "nbformat": 4,
 "nbformat_minor": 2
}
