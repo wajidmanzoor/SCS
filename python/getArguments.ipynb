{
 "cells": [
  {
   "cell_type": "code",
   "execution_count": 1,
   "metadata": {},
   "outputs": [],
   "source": [
    "import pandas as pd\n",
    "import numpy as np\n",
    "import os"
   ]
  },
  {
   "cell_type": "code",
   "execution_count": 2,
   "metadata": {},
   "outputs": [],
   "source": [
    "def getGraphForRun(s):\n",
    "    for i in s.split(\"\\n\"):\n",
    "        print(\"'\"+i+\"'\", end = \" \")\n",
    "    return s.split(\"\\n\")"
   ]
  },
  {
   "cell_type": "code",
   "execution_count": 3,
   "metadata": {},
   "outputs": [],
   "source": [
    "graphs =  \"\"\"graph7\n",
    "graph8.txt\n",
    "fat200\n",
    "GSE1730_q\n",
    "GSE10158_q\n",
    "orani\n",
    "ego-facebook\n",
    "grqc_q\n",
    "uc64\n",
    "government\n",
    "wiki-elec\n",
    "lastfm\n",
    "hepPh\n",
    "astroPh\n",
    "condmat\n",
    "Enron_q\n",
    "fb-pages\n",
    "brightkite\n",
    "livemocha\n",
    "gowalla\n",
    "citeseer\n",
    "com-dblp\n",
    "amazon_q\n",
    "youtube_q\n",
    "hyves_q\n",
    "skitter\n",
    "flixster\n",
    "patent_q\n",
    "soc-livejournal\n",
    "dblp-author\"\"\""
   ]
  },
  {
   "cell_type": "code",
   "execution_count": 4,
   "metadata": {},
   "outputs": [
    {
     "data": {
      "text/plain": [
       "30"
      ]
     },
     "execution_count": 4,
     "metadata": {},
     "output_type": "execute_result"
    }
   ],
   "source": [
    "len(graphs.split(\"\\n\"))"
   ]
  },
  {
   "cell_type": "code",
   "execution_count": 5,
   "metadata": {},
   "outputs": [
    {
     "name": "stdout",
     "output_type": "stream",
     "text": [
      "'graph7' 'graph8.txt' 'fat200' 'GSE1730_q' 'GSE10158_q' 'orani' 'ego-facebook' 'grqc_q' 'uc64' 'government' 'wiki-elec' 'lastfm' 'hepPh' 'astroPh' 'condmat' 'Enron_q' 'fb-pages' 'brightkite' 'livemocha' 'gowalla' 'citeseer' 'com-dblp' 'amazon_q' 'youtube_q' 'hyves_q' 'skitter' 'flixster' 'patent_q' 'soc-livejournal' 'dblp-author' "
     ]
    }
   ],
   "source": [
    "graph_names = getGraphForRun(graphs)"
   ]
  },
  {
   "cell_type": "code",
   "execution_count": 6,
   "metadata": {},
   "outputs": [],
   "source": [
    "def CPUArgs(path,graph_names):\n",
    "    df = pd.read_csv(path)\n",
    "    qid = []\n",
    "    for graph_name in graph_names:\n",
    "        l = []\n",
    "        num_vertex = df[df['file_name']==graph_name]['V'].values[0]\n",
    "        for core_value in [6,9,12,15,18,21,24]:\n",
    "            vert = np.random.randint(0,num_vertex)\n",
    "            l.append(vert)\n",
    "        qid.append(\" \".join(list(map(str,l))))\n",
    "    return qid"
   ]
  },
  {
   "cell_type": "code",
   "execution_count": 7,
   "metadata": {},
   "outputs": [],
   "source": [
    "cpu_args = CPUArgs(\"../../graphStatisticsFinal.csv\",graph_names)"
   ]
  },
  {
   "cell_type": "code",
   "execution_count": 8,
   "metadata": {},
   "outputs": [
    {
     "data": {
      "text/plain": [
       "['3 3 3 2 4 4 4',\n",
       " '30 5 34 27 43 43 22',\n",
       " '56 44 32 144 54 164 24',\n",
       " '206 933 689 674 29 892 520',\n",
       " '192 467 749 1396 820 15 446',\n",
       " '2485 1490 1452 2093 219 1760 1266',\n",
       " '1822 1518 2457 1277 3247 2137 3568',\n",
       " '2490 5181 2015 3934 3179 3756 1824',\n",
       " '6640 2729 3927 2589 4393 4465 441',\n",
       " '1609 4018 909 6398 5073 3713 5989',\n",
       " '3989 4824 1858 5104 458 596 6332',\n",
       " '6030 578 4744 633 5360 6290 4037',\n",
       " '4245 3583 10712 8470 1962 157 4672',\n",
       " '1443 3433 5553 7938 8457 11592 54',\n",
       " '1500 4321 21129 14499 17406 10487 9593',\n",
       " '24498 31960 1512 32767 6161 9647 16327',\n",
       " '48244 46288 19721 42609 12870 1713 6012',\n",
       " '52326 48320 39145 21422 41703 32822 4534',\n",
       " '103280 1225 9139 84042 102388 39834 46453',\n",
       " '106852 179288 100907 71838 17572 38221 161338',\n",
       " '188758 55945 11400 181576 11795 2128 209355',\n",
       " '237689 13510 314811 218866 14143 177386 116891',\n",
       " '123511 280016 134449 137300 69204 112366 77952',\n",
       " '194530 396117 1131665 1025077 257825 496421 720474',\n",
       " '1157339 1103172 269109 1010550 1216578 61508 901301',\n",
       " '1400821 798919 57205 417290 1121030 1092412 534081',\n",
       " '1904471 2363148 1905280 1718148 1100465 1249494 633976',\n",
       " '3068591 738594 801729 2090348 2327084 2013616 576737',\n",
       " '1646193 933013 2436057 2917557 3617522 115769 2307626',\n",
       " '5103413 1782647 4938759 312003 5952937 4028127 2849264']"
      ]
     },
     "execution_count": 8,
     "metadata": {},
     "output_type": "execute_result"
    }
   ],
   "source": [
    "cpu_args"
   ]
  },
  {
   "cell_type": "code",
   "execution_count": 40,
   "metadata": {},
   "outputs": [],
   "source": [
    "def GpuClientArgs(path,graph_names,output_dir,postfix=\"1 1\"):\n",
    "    df = pd.read_csv(path)\n",
    "    for graph_name in graph_names:\n",
    "        query_data = ''\n",
    "        num_vertex = df[df['file_name']==graph_name]['V'].values[0]\n",
    "        for N1,N2 in zip([3,6,9,12,15,18,21],[6,9,12,15,18,21,24]):\n",
    "            qid = np.random.randint(0,num_vertex)\n",
    "            query = f\"{N1} {N2} {qid} {postfix}\\n\"\n",
    "            query_data +=query\n",
    "        query_data+=\"server_exit\"\n",
    "        with open(os.path.join(output_dir,graph_name),'w') as f:\n",
    "            f.write(query_data)\n",
    "        print(\"completed: \",graph_name)\n",
    "    print(\"Done yay! :)\")"
   ]
  },
  {
   "cell_type": "code",
   "execution_count": 41,
   "metadata": {},
   "outputs": [
    {
     "name": "stdout",
     "output_type": "stream",
     "text": [
      "completed:  graph7\n",
      "completed:  graph8.txt\n",
      "completed:  fat200\n",
      "completed:  GSE1730_q\n",
      "completed:  GSE10158_q\n",
      "completed:  orani\n",
      "completed:  ego-facebook\n",
      "completed:  grqc_q\n",
      "completed:  uc64\n",
      "completed:  government\n",
      "completed:  wiki-elec\n",
      "completed:  lastfm\n",
      "completed:  hepPh\n",
      "completed:  astroPh\n",
      "completed:  condmat\n",
      "completed:  Enron_q\n",
      "completed:  fb-pages\n",
      "completed:  brightkite\n",
      "completed:  livemocha\n",
      "completed:  gowalla\n",
      "completed:  citeseer\n",
      "completed:  com-dblp\n",
      "completed:  amazon_q\n",
      "completed:  youtube_q\n",
      "completed:  hyves_q\n",
      "completed:  skitter\n",
      "completed:  flixster\n",
      "completed:  patent_q\n",
      "completed:  soc-livejournal\n",
      "completed:  dblp-author\n",
      "Done yay! :)\n"
     ]
    }
   ],
   "source": [
    "x = GpuClientArgs(\"../../graphStatisticsFinal.csv\",graph_names,\"../client/query/rand\")"
   ]
  },
  {
   "cell_type": "code",
   "execution_count": null,
   "metadata": {},
   "outputs": [],
   "source": []
  }
 ],
 "metadata": {
  "kernelspec": {
   "display_name": "Python 3",
   "language": "python",
   "name": "python3"
  },
  "language_info": {
   "codemirror_mode": {
    "name": "ipython",
    "version": 3
   },
   "file_extension": ".py",
   "mimetype": "text/x-python",
   "name": "python",
   "nbconvert_exporter": "python",
   "pygments_lexer": "ipython3",
   "version": "3.11.9"
  }
 },
 "nbformat": 4,
 "nbformat_minor": 2
}
